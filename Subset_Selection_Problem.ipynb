{
  "nbformat": 4,
  "nbformat_minor": 0,
  "metadata": {
    "colab": {
      "provenance": [],
      "include_colab_link": true
    },
    "kernelspec": {
      "display_name": "Python 3",
      "language": "python",
      "name": "python3"
    },
    "language_info": {
      "codemirror_mode": {
        "name": "ipython",
        "version": 3
      },
      "file_extension": ".py",
      "mimetype": "text/x-python",
      "name": "python",
      "nbconvert_exporter": "python",
      "pygments_lexer": "ipython3",
      "version": "3.8.5"
    }
  },
  "cells": [
    {
      "cell_type": "markdown",
      "metadata": {
        "id": "view-in-github",
        "colab_type": "text"
      },
      "source": [
        "<a href=\"https://colab.research.google.com/github/bhavikapragya/subset/blob/main/Subset_Selection_Problem.ipynb\" target=\"_parent\"><img src=\"https://colab.research.google.com/assets/colab-badge.svg\" alt=\"Open In Colab\"/></a>"
      ]
    },
    {
      "cell_type": "markdown",
      "metadata": {
        "id": "7nQSRI4Dim1Y"
      },
      "source": [
        "  ---\n",
        "# **Subset Selection Problem**\n",
        "---\n",
        "####**1. Problem Statement:**\n",
        "Find all the subsets from a set of numbers whose sum is zero.\n",
        "\n",
        "####**Constraint: Subset size must be 5**\n",
        "Set={-12, -3, -6, 7, 2, -2, 6, 3, 9, -7, -5, -8, 1, 11, -9, -4}\n",
        "\n",
        "---"
      ]
    },
    {
      "cell_type": "markdown",
      "metadata": {
        "id": "A30y-VtNim1h"
      },
      "source": [
        "### **1.1 Library inclusion**"
      ]
    },
    {
      "cell_type": "code",
      "metadata": {
        "id": "cF_mSA9Xim1j"
      },
      "source": [
        "import random as r"
      ],
      "execution_count": 1,
      "outputs": []
    },
    {
      "cell_type": "markdown",
      "metadata": {
        "id": "UjvBYy0Lim1m"
      },
      "source": [
        "### **1.2 Parameter Setting**"
      ]
    },
    {
      "cell_type": "code",
      "metadata": {
        "id": "NHB2KMhZim1o"
      },
      "source": [
        "Set         = set([-12, -3, -6, 7, 2, -2, 6, 3, 9, -7, -5, -8, 1, 11, -9, -4])\n",
        "SetSize     = 5\n",
        "ResultList  = set()    # Store Result List i.e. list of sets whose sum is zero\n",
        "Iterations  = 1000    # Number of Inerations"
      ],
      "execution_count": 2,
      "outputs": []
    },
    {
      "cell_type": "markdown",
      "metadata": {
        "id": "BTLd3s--im1c"
      },
      "source": [
        "### **1.3 Start Program**\n",
        "\n",
        "\n"
      ]
    },
    {
      "cell_type": "code",
      "metadata": {
        "id": "veBU-f21im1x",
        "colab": {
          "base_uri": "https://localhost:8080/"
        },
        "outputId": "130b83e3-e5db-46a0-edd9-5dcef6a30a69"
      },
      "source": [
        "# Loop till number of Iterations\n",
        "for i in range(Iterations):\n",
        "    # Select number of elements from Set\n",
        "    Chromosome = r.sample(Set,SetSize)\n",
        "\n",
        "    # Sum the number of elements in the Chromosome\n",
        "    if sum(Chromosome) == 0:\n",
        "        ResultList.add(tuple(Chromosome))"
      ],
      "execution_count": 3,
      "outputs": [
        {
          "output_type": "stream",
          "name": "stderr",
          "text": [
            "<ipython-input-3-ed7c48dd8d3e>:4: DeprecationWarning: Sampling from a set deprecated\n",
            "since Python 3.9 and will be removed in a subsequent version.\n",
            "  Chromosome = r.sample(Set,SetSize)\n"
          ]
        }
      ]
    },
    {
      "cell_type": "markdown",
      "metadata": {
        "id": "nRWYsJNVim1z"
      },
      "source": [
        "### **1.4 Print the sets and total count**\n"
      ]
    },
    {
      "cell_type": "code",
      "metadata": {
        "colab": {
          "base_uri": "https://localhost:8080/"
        },
        "id": "41abL1k-im10",
        "scrolled": true,
        "outputId": "79e744cf-4508-4f42-c54c-c37343b8df9f"
      },
      "source": [
        "# Print all the sets whose sum is zero\n",
        "for r in ResultList:\n",
        "\tprint (r)\n",
        "\n",
        "# Print total sets\n",
        "print (\"\\nTotal Sets: \", len(ResultList), \"\\n\")"
      ],
      "execution_count": 4,
      "outputs": [
        {
          "output_type": "stream",
          "name": "stdout",
          "text": [
            "(-4, -2, 7, 6, -7)\n",
            "(9, -3, 7, -8, -5)\n",
            "(-12, 1, 11, 6, -6)\n",
            "(-4, 11, -8, -2, 3)\n",
            "(-8, 3, 1, -2, 6)\n",
            "(9, 7, -5, -7, -4)\n",
            "(11, -2, 6, -6, -9)\n",
            "(9, 7, -7, -6, -3)\n",
            "(-3, -6, 11, -8, 6)\n",
            "(-8, 6, 11, -7, -2)\n",
            "(-3, 6, 2, 1, -6)\n",
            "(-2, 11, -6, -12, 9)\n",
            "(3, -7, 1, 7, -4)\n",
            "(-8, -2, 11, -3, 2)\n",
            "(11, -5, -7, -2, 3)\n",
            "(-3, -9, -5, 6, 11)\n",
            "(-8, 11, -6, -4, 7)\n",
            "(-5, -3, 7, 3, -2)\n",
            "(3, 9, -9, -4, 1)\n",
            "(-3, -6, -9, 11, 7)\n",
            "(6, 11, -2, -8, -7)\n",
            "(-5, 9, 2, -7, 1)\n",
            "(7, -9, 1, 3, -2)\n",
            "(9, -3, 6, -5, -7)\n",
            "(-7, -5, -4, 7, 9)\n",
            "\n",
            "Total Sets:  25 \n",
            "\n"
          ]
        }
      ]
    },
    {
      "cell_type": "markdown",
      "metadata": {
        "id": "E3BNV7YLim12"
      },
      "source": [
        "---\n",
        "### **1.5 Complete Program**\n",
        "---"
      ]
    },
    {
      "cell_type": "code",
      "metadata": {
        "colab": {
          "base_uri": "https://localhost:8080/"
        },
        "id": "c6KthRB9im14",
        "outputId": "53c11bd6-ec7a-4f71-bef0-6255675537e5"
      },
      "source": [
        "#-------------------------------------------------------------\n",
        "# Step 1: Library inclusion\n",
        "#-------------------------------------------------------------\n",
        "import random as r\n",
        "\n",
        "\n",
        "#-------------------------------------------------------------\n",
        "# Step 2: Parameter Setting\n",
        "#-------------------------------------------------------------\n",
        "Set         = set([-12, -3, -6, 7, 2, -2, 6, 3, 9, -7, -5, -8, 1, 11, -9, -4])\n",
        "SetSize     = 5\n",
        "ResultList  = set()    # Store Result List i.e. list of sets whose sum is zero\n",
        "Iterations  = 10000   # Number of Inerations\n",
        "\n",
        "\n",
        "#-------------------------------------------------------------\n",
        "# Step3: Start Program\n",
        "#-------------------------------------------------------------\n",
        "\n",
        "# Loop till number of Iterations\n",
        "for i in range(Iterations):\n",
        "    # Select number of elements from Set\n",
        "    Chromosome = r.sample(Set,SetSize)\n",
        "\n",
        "    # Sum the number of elements in the Chromosome\n",
        "    if sum(Chromosome) == 0:\n",
        "        ResultList.add(tuple(Chromosome))\n",
        "\n",
        "# Print all the sets whose sum is zero\n",
        "for r in ResultList:\n",
        "\tprint (r)\n",
        "\n",
        "# Print total sets\n",
        "print (\"\\nTotal Sets: \", len(ResultList))\n"
      ],
      "execution_count": 8,
      "outputs": [
        {
          "output_type": "stream",
          "name": "stdout",
          "text": [
            "(9, 11, -6, -9, -5)\n",
            "(6, -2, -6, -5, 7)\n",
            "(7, -4, -7, 3, 1)\n",
            "(-9, -8, 1, 9, 7)\n",
            "(6, -3, -7, 9, -5)\n",
            "(-2, 11, -4, 2, -7)\n",
            "(-2, 6, 7, 1, -12)\n",
            "(2, 11, 3, -7, -9)\n",
            "(3, 11, 7, -9, -12)\n",
            "(6, -3, -6, -4, 7)\n",
            "(-2, -6, 6, -9, 11)\n",
            "(9, 2, -12, -2, 3)\n",
            "(7, -2, -5, 3, -3)\n",
            "(9, -3, -6, -2, 2)\n",
            "(-12, -7, 7, 1, 11)\n",
            "(-7, 11, -3, 3, -4)\n",
            "(-2, -4, 6, -9, 9)\n",
            "(-3, -5, 11, -9, 6)\n",
            "(1, -3, 11, -2, -7)\n",
            "(1, 11, -9, 9, -12)\n",
            "(2, 11, -12, 1, -2)\n",
            "(11, 7, -12, 3, -9)\n",
            "(-2, -8, -3, 11, 2)\n",
            "(-6, 11, 1, -8, 2)\n",
            "(-6, 7, 9, 2, -12)\n",
            "(7, -5, -3, 3, -2)\n",
            "(-9, 11, 6, -2, -6)\n",
            "(6, -12, -6, 1, 11)\n",
            "(-2, -9, 11, 6, -6)\n",
            "(-7, 1, 3, -4, 7)\n",
            "(-7, -9, 7, 3, 6)\n",
            "(3, -3, 6, -2, -4)\n",
            "(-2, -6, 6, 11, -9)\n",
            "(7, 11, -6, -4, -8)\n",
            "(1, 3, 6, -4, -6)\n",
            "(-7, 2, 1, 7, -3)\n",
            "(1, -6, 11, -8, 2)\n",
            "(1, -9, 7, -8, 9)\n",
            "(-12, 3, 6, -6, 9)\n",
            "(-7, 2, 6, -8, 7)\n",
            "(-9, -4, 9, 3, 1)\n",
            "(-6, -2, 9, 6, -7)\n",
            "(-3, -6, 6, 2, 1)\n",
            "(-2, 3, 9, -4, -6)\n",
            "(2, -8, 6, 9, -9)\n",
            "(11, 7, -5, -4, -9)\n",
            "(6, -7, -2, 7, -4)\n",
            "(11, 9, -12, -9, 1)\n",
            "(-3, 2, 7, 1, -7)\n",
            "(-2, 7, -7, -4, 6)\n",
            "(2, -6, 9, 7, -12)\n",
            "(11, -2, -7, -8, 6)\n",
            "(1, -8, -2, 3, 6)\n",
            "(11, 2, -4, -3, -6)\n",
            "(-2, 11, -3, -12, 6)\n",
            "(1, -9, 3, 11, -6)\n",
            "(-9, -5, -3, 11, 6)\n",
            "(-8, -9, 2, 9, 6)\n",
            "(1, 2, 6, -5, -4)\n",
            "(-6, 9, -8, -2, 7)\n",
            "(-4, 11, 6, -7, -6)\n",
            "(-2, -7, -4, 2, 11)\n",
            "(11, -9, 1, 2, -5)\n",
            "(-8, -7, -5, 11, 9)\n",
            "(-7, 2, 1, -5, 9)\n",
            "(-4, 9, 1, 6, -12)\n",
            "(-2, -7, 1, 11, -3)\n",
            "(3, -2, -8, 11, -4)\n",
            "(11, -7, -8, 9, -5)\n",
            "(11, 9, -7, -4, -9)\n",
            "(2, -3, 1, -6, 6)\n",
            "(9, -9, -5, 7, -2)\n",
            "(-12, 2, 6, 3, 1)\n",
            "(-4, -7, 3, 11, -3)\n",
            "(6, 2, -7, 7, -8)\n",
            "(-8, 6, 2, -3, 3)\n",
            "(-8, 7, 1, 2, -2)\n",
            "(9, -5, -7, 11, -8)\n",
            "(11, -6, 2, -2, -5)\n",
            "(-3, 6, 2, -8, 3)\n",
            "(-3, -7, 9, -6, 7)\n",
            "(3, 1, -7, 11, -8)\n",
            "(1, -3, -7, 3, 6)\n",
            "(6, -3, -4, 3, -2)\n",
            "(11, 2, -8, -12, 7)\n",
            "(-3, 9, -8, -5, 7)\n",
            "(-4, 11, -9, 7, -5)\n",
            "(-2, 7, -5, -6, 6)\n",
            "(3, 9, -3, -5, -4)\n",
            "(6, -4, -5, -6, 9)\n",
            "(-9, 6, 7, -5, 1)\n",
            "(1, -5, -6, 7, 3)\n",
            "(11, -12, 1, 6, -6)\n",
            "(11, -3, -2, -9, 3)\n",
            "(-9, 11, -12, 1, 9)\n",
            "(1, 3, -4, -7, 7)\n",
            "(-12, -8, 2, 7, 11)\n",
            "(-6, -4, 1, -2, 11)\n",
            "(7, 1, -5, -9, 6)\n",
            "(11, -9, -5, 6, -3)\n",
            "(3, -2, 9, -4, -6)\n",
            "(-7, -4, 9, -5, 7)\n",
            "(3, -6, -3, -5, 11)\n",
            "(-2, 9, 3, -4, -6)\n",
            "(3, -5, 1, 9, -8)\n",
            "(-9, 2, -6, 6, 7)\n",
            "(3, -4, -3, 9, -5)\n",
            "(-5, 11, -7, -6, 7)\n",
            "(7, -4, 9, -5, -7)\n",
            "(9, -12, -2, 2, 3)\n",
            "(-3, 11, 6, -8, -6)\n",
            "(-5, 7, 9, -8, -3)\n",
            "(-6, 11, 2, -2, -5)\n",
            "(-9, -2, 6, -4, 9)\n",
            "(7, -7, -3, 9, -6)\n",
            "(9, -7, -9, -4, 11)\n",
            "(-9, -4, 9, 1, 3)\n",
            "(-6, 11, -8, -4, 7)\n",
            "(7, -3, -9, -4, 9)\n",
            "(2, -12, 7, -8, 11)\n",
            "(-6, -5, 11, 3, -3)\n",
            "(3, -8, 6, 1, -2)\n",
            "(7, -6, -4, 11, -8)\n",
            "(1, -3, 2, 6, -6)\n",
            "(9, 2, 1, -3, -9)\n",
            "(-8, -6, 9, 7, -2)\n",
            "(-2, 3, 1, 6, -8)\n",
            "(6, -7, -4, -2, 7)\n",
            "(-12, -7, 9, 3, 7)\n",
            "(-2, 3, 6, -9, 2)\n",
            "(-3, 11, 7, -9, -6)\n",
            "(11, -12, -4, 7, -2)\n",
            "(-9, 9, -3, 7, -4)\n",
            "(1, 2, -3, 9, -9)\n",
            "(-5, 2, -7, 3, 7)\n",
            "(3, 1, -9, -6, 11)\n",
            "(-8, 11, 7, -7, -3)\n",
            "(1, 2, -4, 6, -5)\n",
            "(-4, 6, -12, 3, 7)\n",
            "(-4, -7, 7, -2, 6)\n",
            "(6, -2, 11, -12, -3)\n",
            "(-5, -4, 9, 6, -6)\n",
            "(1, -8, -5, 3, 9)\n",
            "(6, -3, -2, 3, -4)\n",
            "(-4, 2, 1, 9, -8)\n",
            "(-7, 9, -3, 7, -6)\n",
            "(9, -2, -6, 3, -4)\n",
            "(11, -5, -4, 7, -9)\n",
            "(-8, -6, -4, 11, 7)\n",
            "(2, -12, 3, 11, -4)\n",
            "(1, -7, 7, -12, 11)\n",
            "(11, -6, -12, 9, -2)\n",
            "(-2, -4, 9, 3, -6)\n",
            "(-7, 7, -5, -6, 11)\n",
            "(-7, 2, -5, 1, 9)\n",
            "(11, 2, -2, -3, -8)\n",
            "(-6, -2, 2, 9, -3)\n",
            "(-12, 3, 6, 11, -8)\n",
            "(7, -8, 11, -6, -4)\n",
            "(-12, -2, 11, 7, -4)\n",
            "(-8, 1, -3, 3, 7)\n",
            "(3, 1, 6, -2, -8)\n",
            "(-6, 1, -8, 6, 7)\n",
            "(-6, 6, 3, -4, 1)\n",
            "(1, 9, -12, -5, 7)\n",
            "(-8, -3, 7, 3, 1)\n",
            "(1, 3, -9, 7, -2)\n",
            "(-5, 9, 2, -7, 1)\n",
            "(-8, -2, -7, 11, 6)\n",
            "(11, -7, -3, -2, 1)\n",
            "(-2, 3, 11, -4, -8)\n",
            "(11, -12, 6, -8, 3)\n",
            "(9, -12, 6, -5, 2)\n",
            "(-2, -5, 7, 9, -9)\n",
            "(-2, 7, 6, 1, -12)\n",
            "(2, -2, -5, -4, 9)\n",
            "(6, -12, 7, 1, -2)\n",
            "(-3, 1, -6, 2, 6)\n",
            "(9, -9, 1, 6, -7)\n",
            "(11, -8, -3, -6, 6)\n",
            "(-2, -8, 6, 3, 1)\n",
            "(-4, 7, 3, 6, -12)\n",
            "(3, 6, -9, 7, -7)\n",
            "(-8, 2, 1, 7, -2)\n",
            "(-3, 3, 6, -8, 2)\n",
            "(-8, 11, -7, 6, -2)\n",
            "(11, -6, 1, -12, 6)\n",
            "(9, 2, -5, -9, 3)\n",
            "(11, -7, 3, -9, 2)\n",
            "(-4, -12, 9, 6, 1)\n",
            "(-12, -4, 3, 11, 2)\n",
            "(-5, -6, 9, 11, -9)\n",
            "(-6, 2, 1, 11, -8)\n",
            "(-3, 1, 11, -7, -2)\n",
            "(-5, 7, 11, -9, -4)\n",
            "(-9, -2, -3, 11, 3)\n",
            "(2, -5, 11, -6, -2)\n",
            "(7, -8, 6, 2, -7)\n",
            "(-2, 11, 6, -8, -7)\n",
            "(1, 2, 7, -8, -2)\n",
            "(-4, -5, -6, 6, 9)\n",
            "(2, 7, -12, 11, -8)\n",
            "(2, -8, 11, -3, -2)\n",
            "(-7, 9, -3, 3, -2)\n",
            "(-9, -3, -4, 7, 9)\n",
            "(-9, -5, 1, 2, 11)\n",
            "(-6, -9, 1, 3, 11)\n",
            "(-6, -3, -8, 11, 6)\n",
            "(-12, -3, 6, -2, 11)\n",
            "(1, 11, -7, -3, -2)\n",
            "(7, 11, -3, -8, -7)\n",
            "(-5, -6, 2, 6, 3)\n",
            "(-5, 7, 6, 1, -9)\n",
            "(-2, 6, 3, -8, 1)\n",
            "(-4, -8, -6, 7, 11)\n",
            "(6, 3, -12, 9, -6)\n",
            "(11, -4, -2, -6, 1)\n",
            "(9, -8, -4, 2, 1)\n",
            "(9, 11, -6, -2, -12)\n",
            "(6, -5, -9, 11, -3)\n",
            "(3, -2, -4, -3, 6)\n",
            "(-2, -8, 1, 6, 3)\n",
            "(11, -2, -4, -12, 7)\n",
            "(6, -9, -7, 9, 1)\n",
            "(2, -12, -3, 6, 7)\n",
            "(-4, -5, 9, 3, -3)\n",
            "(3, 6, -2, -3, -4)\n",
            "(-3, 9, -8, -9, 11)\n",
            "(6, -6, 11, -12, 1)\n",
            "(-5, 9, 6, -6, -4)\n",
            "(-8, 2, 11, -3, -2)\n",
            "(-4, 1, 6, -6, 3)\n",
            "(11, -9, -7, 7, -2)\n",
            "(6, 1, 3, -12, 2)\n",
            "(6, 3, 11, -12, -8)\n",
            "(9, -3, -8, 11, -9)\n",
            "(-3, 2, 6, 3, -8)\n",
            "(7, -8, 3, -4, 2)\n",
            "(-4, 6, 7, -7, -2)\n",
            "(9, -12, 3, 7, -7)\n",
            "(9, 7, -5, -9, -2)\n",
            "(-7, 9, -2, -6, 6)\n",
            "(-2, 11, -3, -7, 1)\n",
            "(2, -2, -12, 11, 1)\n",
            "(6, -8, -5, 11, -4)\n",
            "(1, 2, -6, -3, 6)\n",
            "(-9, 1, -8, 9, 7)\n",
            "(6, -9, -6, 2, 7)\n",
            "(1, -3, 6, 2, -6)\n",
            "(-9, 9, -7, 11, -4)\n",
            "(-3, 2, 6, 1, -6)\n",
            "(6, -5, -9, 1, 7)\n",
            "(9, -7, 6, -3, -5)\n",
            "(-9, 7, -8, 1, 9)\n",
            "(-2, 2, 6, -7, 1)\n",
            "(11, -5, 1, -3, -4)\n",
            "(-4, 3, 2, 7, -8)\n",
            "(2, -8, 9, 1, -4)\n",
            "(3, -2, 1, -4, 2)\n",
            "(-3, -5, 6, -7, 9)\n",
            "(7, -9, -7, 11, -2)\n",
            "(9, -5, 7, -4, -7)\n",
            "(6, 9, -7, -6, -2)\n",
            "(-4, 3, 7, -8, 2)\n",
            "(-7, -4, 9, 11, -9)\n",
            "(11, 2, -2, -5, -6)\n",
            "(-4, -7, 11, -6, 6)\n",
            "(-4, 11, -2, -6, 1)\n",
            "\n",
            "Total Sets:  268\n"
          ]
        },
        {
          "output_type": "stream",
          "name": "stderr",
          "text": [
            "<ipython-input-8-1544b563da17>:23: DeprecationWarning: Sampling from a set deprecated\n",
            "since Python 3.9 and will be removed in a subsequent version.\n",
            "  Chromosome = r.sample(Set,SetSize)\n"
          ]
        }
      ]
    },
    {
      "cell_type": "markdown",
      "metadata": {
        "id": "stxrIcZtk4LT"
      },
      "source": [
        "---\n",
        "### **1.6 Complete Program with sorting**\n",
        "---"
      ]
    },
    {
      "cell_type": "code",
      "metadata": {
        "colab": {
          "base_uri": "https://localhost:8080/"
        },
        "outputId": "0008e314-93e4-4df0-ba37-36491e6cb995",
        "id": "zzblepy0k4LU"
      },
      "source": [
        "#-------------------------------------------------------------\n",
        "# Step 1: Library inclusion\n",
        "#-------------------------------------------------------------\n",
        "import random as r\n",
        "\n",
        "\n",
        "#-------------------------------------------------------------\n",
        "# Step 2: Parameter Setting\n",
        "#-------------------------------------------------------------\n",
        "Set         = set([-12, -3, -6, 7, 2, -2, 6, 3, 9, -7, -5, -8, 1, 11, -9, -4])\n",
        "SetSize     = 5\n",
        "ResultList  = set()    # Store Result List i.e. list of sets whose sum is zero\n",
        "Iterations  = 1000   # Number of Inerations\n",
        "\n",
        "\n",
        "#-------------------------------------------------------------\n",
        "# Step3: Start Program\n",
        "#-------------------------------------------------------------\n",
        "\n",
        "# Loop till number of Iterations\n",
        "for i in range(Iterations):\n",
        "    # Select number of elements from Set\n",
        "    Chromosome = r.sample(Set,SetSize)\n",
        "    Chromosome.sort()\n",
        "\n",
        "    # Sum the number of elements in the Chromosome\n",
        "    if sum(Chromosome) == 0:\n",
        "        ResultList.add(tuple(Chromosome))\n",
        "\n",
        "# Print all the sets whose sum is zero\n",
        "for r in ResultList:\n",
        "\tprint (r)\n",
        "\n",
        "# Print total sets\n",
        "print (\"\\nTotal Sets: \", len(ResultList))\n"
      ],
      "execution_count": 9,
      "outputs": [
        {
          "output_type": "stream",
          "name": "stdout",
          "text": [
            "(-6, -5, 1, 3, 7)\n",
            "(-5, -4, -3, 1, 11)\n",
            "(-9, -7, 2, 3, 11)\n",
            "(-7, -3, 1, 3, 6)\n",
            "(-9, -7, -4, 9, 11)\n",
            "(-6, -4, 1, 3, 6)\n",
            "(-7, -6, 1, 3, 9)\n",
            "(-12, -3, 1, 3, 11)\n",
            "(-8, -2, 1, 3, 6)\n",
            "(-6, -5, -2, 2, 11)\n",
            "(-9, -7, -2, 7, 11)\n",
            "(-4, -3, -2, 3, 6)\n",
            "(-6, -5, 2, 3, 6)\n",
            "(-8, -2, 1, 2, 7)\n",
            "(-12, -5, 2, 6, 9)\n",
            "(-9, -7, 1, 6, 9)\n",
            "(-5, -4, -3, 3, 9)\n",
            "(-9, -6, 2, 6, 7)\n",
            "(-12, -9, 3, 7, 11)\n",
            "\n",
            "Total Sets:  19\n"
          ]
        },
        {
          "output_type": "stream",
          "name": "stderr",
          "text": [
            "<ipython-input-9-74199e36c2e7>:23: DeprecationWarning: Sampling from a set deprecated\n",
            "since Python 3.9 and will be removed in a subsequent version.\n",
            "  Chromosome = r.sample(Set,SetSize)\n"
          ]
        }
      ]
    },
    {
      "cell_type": "markdown",
      "metadata": {
        "id": "Kaevs6ROim18"
      },
      "source": [
        "---\n",
        "####**2. Problem Statement:**\n",
        "Find all the subsets from a set of numbers whose sum is zero.\n",
        "\n",
        "####**Constraint: Subset size must be 3 to 6 only**\n",
        "Set={-12, -3, -6, 7, 2, -2, 6, 3, 9, -7, -5, -8, 1, 11, -9, -4}\n",
        "\n",
        "---"
      ]
    },
    {
      "cell_type": "code",
      "metadata": {
        "colab": {
          "base_uri": "https://localhost:8080/"
        },
        "id": "XmPJbrOXim19",
        "outputId": "88a5554a-8d00-4318-b2ba-7d220f649aa4"
      },
      "source": [
        "#-------------------------------------------------------------\n",
        "# Step 1: Library inclusion\n",
        "#-------------------------------------------------------------\n",
        "import random as r\n",
        "\n",
        "\n",
        "#-------------------------------------------------------------\n",
        "# Step 2: Parameter Setting\n",
        "#-------------------------------------------------------------\n",
        "Set         = set([-12, -3, -6, 7, 2, -2, 6, 3, 9, -7, -5, -8, 1, 11, -9, -4])\n",
        "SetLB       = 3\n",
        "SetUB       = 6\n",
        "ResultList  = set()    # Store Result List i.e. list of sets whose sum is zero\n",
        "Iterations  = 1000   # Number of Inerations\n",
        "\n",
        "\n",
        "#-------------------------------------------------------------\n",
        "# Step3: Start Program\n",
        "#-------------------------------------------------------------\n",
        "\n",
        "# Loop till number of Iterations\n",
        "for i in range(Iterations):\n",
        "    # Select set size randomly\n",
        "    SetSize = r.randint(SetLB,SetUB)\n",
        "\n",
        "    # Select number of elements from Set\n",
        "    Chromosome = r.sample(Set,SetSize)\n",
        "    Chromosome.sort()\n",
        "\n",
        "    # Sum the number of elements in the Chromosome\n",
        "    if sum(Chromosome) == 0:\n",
        "        ResultList.add(tuple(Chromosome))\n",
        "\n",
        "# Print all the sets whose sum is zero\n",
        "for r in ResultList:\n",
        "\tprint (r)\n",
        "\n",
        "# Print total sets\n",
        "print (\"\\nTotal Sets: \", len(ResultList))\n"
      ],
      "execution_count": 10,
      "outputs": [
        {
          "output_type": "stream",
          "name": "stdout",
          "text": [
            "(-8, -7, -3, 1, 6, 11)\n",
            "(-7, -2, 3, 6)\n",
            "(-8, -5, 6, 7)\n",
            "(-7, -3, 1, 3, 6)\n",
            "(-8, -6, 3, 11)\n",
            "(-12, 3, 9)\n",
            "(-6, -4, 1, 2, 7)\n",
            "(-12, -7, -4, 3, 9, 11)\n",
            "(-7, -3, -2, 1, 2, 9)\n",
            "(-6, -5, -3, 3, 11)\n",
            "(-8, 2, 6)\n",
            "(-8, -5, -2, 6, 9)\n",
            "(-7, -4, 11)\n",
            "(-9, -6, -3, 1, 6, 11)\n",
            "(-6, -4, -3, 2, 11)\n",
            "(-9, -6, 6, 9)\n",
            "(-5, -2, 7)\n",
            "(-8, -3, -2, 1, 3, 9)\n",
            "(-9, -7, 1, 2, 6, 7)\n",
            "(-7, 1, 6)\n",
            "(-7, -5, -3, 6, 9)\n",
            "(-3, 1, 2)\n",
            "(-8, -6, 2, 3, 9)\n",
            "\n",
            "Total Sets:  23\n"
          ]
        },
        {
          "output_type": "stream",
          "name": "stderr",
          "text": [
            "<ipython-input-10-c329ea93fb8b>:27: DeprecationWarning: Sampling from a set deprecated\n",
            "since Python 3.9 and will be removed in a subsequent version.\n",
            "  Chromosome = r.sample(Set,SetSize)\n"
          ]
        }
      ]
    }
  ]
}